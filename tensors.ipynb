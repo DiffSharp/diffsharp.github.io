
        {
            "cells": [
          {
           "cell_type": "code",
           "metadata": {},
            "execution_count": null, "outputs": [],
           "source": ["// Google Colab only: uncomment and run the following to install dotnet and the F# kernel\n",
"// !bash \u003c(curl -Ls https://raw.githubusercontent.com/gbaydin/scripts/main/colab_dotnet6.sh)\n"]
          }
,
          {
           "cell_type": "code",
           "metadata": {},
            "execution_count": null, "outputs": [],
           "source": ["// Import DiffSharp package\n",
"#r \"nuget: DiffSharp-lite,1.0.7\"\n",
"\n",
"// Set dotnet interactive formatter to plaintext\n",
"Formatter.SetPreferredMimeTypesFor(typeof\u003cobj\u003e, \"text/plain\")\n",
"Formatter.Register(fun (x:obj) (writer: TextWriter) -\u003e fprintfn writer \"%120A\" x )\n"]
          }
,
          {
           "cell_type": "markdown",
           "metadata": {},
           
           "source": ["[![Binder](https://colab.research.google.com/assets/colab-badge.svg)](https://colab.research.google.com/github/DiffSharp/diffsharp.github.io/blob/master/tensors.ipynb)\u0026emsp;\n",
"[![Binder](img/badge-binder.svg)](https://mybinder.org/v2/gh/diffsharp/diffsharp.github.io/master?filepath=tensors.ipynb)\u0026emsp;\n",
"[![Script](img/badge-script.svg)](tensors.fsx)\u0026emsp;\n",
"[![Script](img/badge-notebook.svg)](tensors.ipynb)\n",
"\n",
"* The [dsharp](https://diffsharp.github.io/reference/diffsharp-dsharp.html) API\n",
"  \n",
"\n",
"* The [Tensor](https://diffsharp.github.io/reference/diffsharp-tensor.html) type\n",
"  \n",
"\n",
"Saving tensors as image and loading images as tensors\n",
"\n",
"## Converting between Tensors and arrays\n",
"\n",
"System.Array and F# arrays\n",
"\n"]
          }
,
          {
           "cell_type": "code",
           "metadata": {},
            "execution_count": 2, "outputs": [],
           "source": ["open DiffSharp\n",
"\n",
"// Tensor\n",
"let t1 = dsharp.tensor [ 0.0 .. 0.2 .. 1.0 ]\n",
"\n",
"// System.Array\n",
"let a1 = t1.toArray()\n",
"\n",
"// []\u003cfloat32\u003e\n",
"let a1b = t1.toArray() :?\u003e float32[]\n",
"\n",
"// Tensor\n",
"let t2 = dsharp.randn([3;3;3])\n",
"\n",
"// [,,]\u003cfloat32\u003e\n",
"let a2 = t2.toArray() :?\u003e float32[,,]\n"]
          }],
            "metadata": {
            "kernelspec": {"display_name": ".NET (F#)", "language": "F#", "name": ".net-fsharp"},
            "langauge_info": {
        "file_extension": ".fs",
        "mimetype": "text/x-fsharp",
        "name": "C#",
        "pygments_lexer": "fsharp",
        "version": "4.5"
        }
        },
            "nbformat": 4,
            "nbformat_minor": 1
        }
        

